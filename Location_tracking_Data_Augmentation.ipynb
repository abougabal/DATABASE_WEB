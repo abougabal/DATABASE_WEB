{
  "nbformat": 4,
  "nbformat_minor": 0,
  "metadata": {
    "colab": {
      "name": "Location_tracking_Data_Augmentation.ipynb",
      "provenance": [],
      "include_colab_link": true
    },
    "kernelspec": {
      "display_name": "Python 3",
      "language": "python",
      "name": "python3"
    },
    "language_info": {
      "codemirror_mode": {
        "name": "ipython",
        "version": 3
      },
      "file_extension": ".py",
      "mimetype": "text/x-python",
      "name": "python",
      "nbconvert_exporter": "python",
      "pygments_lexer": "ipython3",
      "version": "3.8.5"
    }
  },
  "cells": [
    {
      "cell_type": "markdown",
      "metadata": {
        "id": "view-in-github",
        "colab_type": "text"
      },
      "source": [
        "<a href=\"https://colab.research.google.com/github/abougabal/DATABASE_WEB/blob/master/Location_tracking_Data_Augmentation.ipynb\" target=\"_parent\"><img src=\"https://colab.research.google.com/assets/colab-badge.svg\" alt=\"Open In Colab\"/></a>"
      ]
    },
    {
      "cell_type": "markdown",
      "metadata": {
        "id": "G3G2EA457RY-"
      },
      "source": [
        "# 1. Objective\n",
        "*   Learn to understand scientific papers. \n",
        "*   Learn how to mitigate the noise in wireless channels and increase the density of the fingerprint using data augmentation techniques.\n",
        "*   Learn how to implement and evaluate the data augmentation techniques.\n",
        "\n",
        "# 2. Problem statement\n",
        "The problem we are trying to solve here is finding user estimated location from a scan of the received signal strength (RSS) coming from the different APs in the environment using Deep learning-based fingerprinting techniques. As the size of training data is small, we need to apply the different data augmentation techniques to increase the density of training data (i.e. the fingerprint).\n",
        ">## Offline phase\n",
        "> The input to the problem is the fingerprint (which is collected in an offline calibration phase). The fingerprint is the RSS from the different APs in the environment geo-tagged with the location. The following code defines a fingerprint with 24 RSS samples with their fingerprinting locations *fingerprint_locs*. Each sample in the fingerprint consists of a scan of the RSS coming from the different APs (mainly four APs) and the groundtruth location (the true location). e.g the first sample has RSS scan from four APs: [-64., -73., -70., -85.] dBm and its true location is [11.74, 6.76] meter.\n"
      ]
    },
    {
      "cell_type": "code",
      "metadata": {
        "id": "kXTZXO0t7DqU"
      },
      "source": [
        "'''\n",
        "Fingerprint data\n",
        "'''\n",
        "fingerprint_rss = [[-64., -73., -70., -85.], \\\n",
        "                   [-57., -63., -81., -84.], \\\n",
        "                   [-54., -51., -75., -75.], \\\n",
        "                   [-45., -72., -90., -54.], \\\n",
        "                   [-69., -84., -100., -81.], \\\n",
        "                   [-55., -100., -66., -84.], \\\n",
        "                   [-54., -60., -69., -84.], \\\n",
        "                   [-39., -65., -78., -69.], \\\n",
        "                   [-84., -69., -69., -57.], \\\n",
        "                   [-65., -100., -100., -77.], \\\n",
        "                   [-69., -100., -87., -100.], \\\n",
        "                   [-63., -75., -90., -100.], \\\n",
        "                   [-84., -78., -84., -81.], \\\n",
        "                   [-70., -73., -85., -88.], \\\n",
        "                   [-61., -61., -91., -85.], \\\n",
        "                   [-79., -85., -67., -100.], \\\n",
        "                   [-87., -84., -78., -100.], \\\n",
        "                   [-78., -100., -66., -100.], \\\n",
        "                   [-87., -100., -39., -100.], \\\n",
        "                   [-67., -100., -100., -85.], \\\n",
        "                   [-70., -85., -100., -79.], \\\n",
        "                   [-69., -100., -100., -90.], \\\n",
        "                   [-100., -100., -82., -100.], \\\n",
        "                   [-83., -93., -77., -100.]]  # dBm\n",
        "\n",
        "# location coordinates are in pixels to convert it to meters divide by 100 (first location is 11.74 in x direction and 6.76 in y direction) \n",
        "\n",
        "fingerprint_locs = [[1174, 676], \\\n",
        "                    [1586, 695], \\\n",
        "                    [2000, 670], \\\n",
        "                    [2376, 694], \\\n",
        "                    [2783, 998], \\\n",
        "                    [1256, 688], \\\n",
        "                    [1644, 674], \\\n",
        "                    [2043, 677], \\\n",
        "                    [2462, 678], \\\n",
        "                    [2860, 1083], \\\n",
        "                    [1149, 1406], \\\n",
        "                    [2157, 1103], \\\n",
        "                    [1744, 1128], \\\n",
        "                    [1206, 359], \\\n",
        "                    [1764, 350], \\\n",
        "                    [500, 252], \\\n",
        "                    [800, 247], \\\n",
        "                    [704, 659], \\\n",
        "                    [247, 650], \\\n",
        "                    [2197, 252], \\\n",
        "                    [2675, 347], \\\n",
        "                    [3146, 309], \\\n",
        "                    [826, 1169], \\\n",
        "                    [413, 1160]]"
      ],
      "execution_count": null,
      "outputs": []
    },
    {
      "cell_type": "markdown",
      "metadata": {
        "id": "pPuXXJ-m_NTf"
      },
      "source": [
        ">The data augmentation techniques can be used to extend this small input dataset to a larger dataset suitable for training deep learning models. In particular, here, it is required to implement: the additive noise, random-based signal dropper, and threshold-based signal dropper techniques. For each scan in the input data, it is required to generate three new samples (+ the original scan) using each of the following augmentation technique.\n",
        "\n",
        ">## Additive Noise\n",
        "Typically, when both the transmitter and receiver are stationary, the RSS changes over time. This is due to the dynamic changes in the environment and the noisy wireless channel. The additive noise data augmentation technique builds on this observation. In particular, for each RSS scan, it adds a white Gaussian noise q with zero mean and a standard deviation s to each entry. Note s is parameter (make it = 1 in your results).\n",
        "\n",
        "\n",
        "\n",
        ">## AP Dropper\n",
        "When the device is stationary at a certain location, the number of APs it hears over different scans varies. This is due to the receiver’s sensitivity, where weak APs, whose signal changes over time, will be dropped randomly. The AP dropping techniques increase the training data\n",
        "size by generating synthetic training samples that reflect this\n",
        "behavior by dropping APs (setting their\n",
        "values to -100) in the input scan. We introduce two novel\n",
        "tower dropping techniques: The random-based dropper and the\n",
        "threshold-based dropper.\n",
        "\n",
        ">>A. Random-based dropper: The idea is to randomly drop (set\n",
        "RSS to -100) signals from the detected AP (other\n",
        "than the ones that is already = -100 to reflect the real case). This operation\n",
        "masks out some RSS readings from the RSS vector, simulating\n",
        "the case when the different neighboring cell towers appear and\n",
        "disappear at the same location over time. You can drop up to one heard APs in a a scan. So each sample [-30, -40, -50, -100] will be splitted to zero drop: [-30, -40, -50, -100] and one random drop: [-100, -40, -50, -100].\n",
        "\n",
        ">>B. Threshold-based dropper: This technique modifies an\n",
        "input RSS vector such that any entry  whose value falls\n",
        "below a predefined threshold is a candidate to be removed (set\n",
        "to -100), mimicking that this AP has not been heard in\n",
        "the generated synthetic sample. You can set the threshold value -85dBm.\n",
        "\n",
        "\n",
        ">It is required to use the previous fingerprint without any augmentation, with each augmentation technique individually, and with all augmentation techniques together (threshold drop then random drop then additive noise) to train a simple Classifier neural network. The input to the network is the RSS coming from different cell towers in the environment (features) or in other works the RSS vector from the fingerprint. The output is the probability distribution for different fingerprint locations in the area of interest. The following figure explains the network structure. The input is the RSS vector from M access points (in our case M=4). The output is the probability of the different K locations in the fingerprint (in our case K=24). "
      ]
    },
    {
      "cell_type": "markdown",
      "metadata": {
        "id": "kMHYiWFC9nDf"
      },
      "source": [
        ">![Screenshot from 2021-03-23 09-26-40.png](data:image/png;base64,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)"
      ]
    },
    {
      "cell_type": "markdown",
      "metadata": {
        "id": "Z4xRcBIGCXTp"
      },
      "source": [
        "> In the offline phase, you are required to train the deep learning model using the fingerprinting samples. The data provided to the model is X,Y. The X is the RSS matrix for the (M access point * K samples). The Y is the one-hot encoding vectors for the ground truth locations. E.g. If you have K discrete locations in the fingerprint and the ground truth for a sample is the first location of the K, then the one-hot encoding vector corresponds to this sample is $[1,0,0,...,0]$. It means that the probability of the first location is 1, while the probability of the other K-1 locations is 0.   "
      ]
    },
    {
      "cell_type": "markdown",
      "metadata": {
        "id": "T5oBeTudMduL"
      },
      "source": [
        "> To train the deep model you need:\n",
        "\n",
        "1.   Install the important frameworks."
      ]
    },
    {
      "cell_type": "code",
      "metadata": {
        "id": "QbqkX_W8J7Wv"
      },
      "source": [
        "# Excute this cell only once.\n",
        "# !pip install -qq tensorflow-gpu keras tqdm"
      ],
      "execution_count": null,
      "outputs": []
    },
    {
      "cell_type": "markdown",
      "metadata": {
        "id": "B0_Nku1aNKLL"
      },
      "source": [
        "2.   Import the Keras packages "
      ]
    },
    {
      "cell_type": "code",
      "metadata": {
        "id": "YEwkdxMHJNgE"
      },
      "source": [
        "import tensorflow as tf\n",
        "import keras\n",
        "from keras.models import Sequential\n",
        "from keras.layers import Dense, Conv2D, Flatten, Conv1D, Dropout, Activation, MaxPooling2D\n",
        "from keras.optimizers import Adam, SGD\n",
        "import keras.backend as K\n",
        "from pylab import *\n",
        "import torch\n",
        "from tensorflow.keras import regularizers\n",
        "import numpy as np\n",
        "import random"
      ],
      "execution_count": null,
      "outputs": []
    },
    {
      "cell_type": "markdown",
      "metadata": {
        "id": "Dz63ByvWNe7e"
      },
      "source": [
        "3.   Define your model "
      ]
    },
    {
      "cell_type": "code",
      "metadata": {
        "id": "vMK9dVaX9kY3"
      },
      "source": [
        "# Defines the model to be trained\n",
        "# The model F256->ReLU->F128->ReLU->F64->ReLU->F Output->Softmax       F means full dense layer\n",
        "# You might want to add some Dropout layers as follows model.add(Dropout(0.5))\n",
        "def model_1():\n",
        "  fc_model = tf.keras.Sequential()\n",
        "  fc_model.add(Dense(256,activation=\"relu\",input_shape=(4,)))\n",
        "  fc_model.add(Dropout(0.5))\n",
        "  fc_model.add(Dense(128,activation=\"relu\"))\n",
        "  #fc_model.add(Dropout(0.5))\n",
        "  fc_model.add(Dense(64,activation=\"relu\"))\n",
        "  fc_model.add(Dense(24,activation=\"softmax\"))\n",
        "  return fc_model\n"
      ],
      "execution_count": null,
      "outputs": []
    },
    {
      "cell_type": "code",
      "metadata": {
        "id": "oSdWJmpawgNs"
      },
      "source": [
        "def one_hot_encoded_vec(r=24,c=24):\n",
        "  rows, cols = (r, c)\n",
        "  encoded=[]\n",
        "  for i in range(rows):\n",
        "\n",
        "    col = []\n",
        "    for j in range(cols):\n",
        "      col.append(0)\n",
        "    encoded.append(col)\n",
        "  for i in range (24):\n",
        "    for j in range (24):\n",
        "      if(i==j):\n",
        "        encoded[i][i]=1\n",
        "  return encoded"
      ],
      "execution_count": null,
      "outputs": []
    },
    {
      "cell_type": "markdown",
      "metadata": {
        "id": "6CaTVsUNQtSD"
      },
      "source": [
        "4.   Train your model "
      ]
    },
    {
      "cell_type": "code",
      "metadata": {
        "id": "GfSZ2ADePSiy"
      },
      "source": [
        "# Defines the parameters used and trains the model epochs = 10, batch size = 2, learning rate = 0.0001, loss is categorical_crossentropy, optimizer is Adam.\n",
        "def train_model(fingerprint_rss_train,encoded):\n",
        "  location_model_1=model_1()\n",
        "  location_model_1.summary()\n",
        "  location_model_1.compile(optimizer=tf.keras.optimizers.Adam(learning_rate=1e-3), \n",
        "              loss='categorical_crossentropy',\n",
        "              metrics=['accuracy'])\n",
        "  BATCH_SIZE = 2\n",
        "  EPOCHS = 10\n",
        "  nn_hist = location_model_1.fit(fingerprint_rss_train ,encoded , batch_size=BATCH_SIZE, epochs=EPOCHS)\n",
        "  return location_model_1\n"
      ],
      "execution_count": null,
      "outputs": []
    },
    {
      "cell_type": "code",
      "metadata": {
        "id": "1oAi1CQSUJ5z"
      },
      "source": [
        "def Test_model(test_rss,encoded_vec,batch_size=2):\n",
        "\n",
        "  score, accuracy = location_model_1.evaluate(test_rss, encoded_vec, batch_size=2, verbose=0)\n",
        "  print(\"Test X fraction correct (NN-Score) = {:.2f}\".format(score))\n",
        "  print(\"Test X fraction correct (NN-Accuracy) = {:.2f}\".format(accuracy))"
      ],
      "execution_count": null,
      "outputs": []
    },
    {
      "cell_type": "code",
      "metadata": {
        "id": "Yt-eEEiZx_MS"
      },
      "source": [
        "def CDF_draw(loc_err_ec,label_2):\n",
        "    hist_1,bin_edges_1=np.histogram(loc_err_ec)\n",
        "    pdf = hist_1 / sum(hist_1)\n",
        "    CFD1=np.cumsum(pdf)\n",
        "    plt.plot(bin_edges_1[1:], CFD1, label=label_2)\n",
        "    return None"
      ],
      "execution_count": null,
      "outputs": []
    },
    {
      "cell_type": "code",
      "metadata": {
        "id": "DSLuQ0bmsvd-"
      },
      "source": [
        "def one_hot_encoder_func(r,c,number_of_samples=3):\n",
        "\n",
        "  encoded2=[]\n",
        "  counter=0\n",
        "  down_counter=number_of_samples+1\n",
        "  for i in range(r):\n",
        "    col = []\n",
        "    for j in range(24):\n",
        "      col.append(0)\n",
        "    encoded2.append(col)\n",
        "  for i in range(r):\n",
        "    encoded2[i][counter]=1\n",
        "    down_counter=down_counter-1\n",
        "    if(down_counter==0):\n",
        "      counter=counter+1\n",
        "      down_counter=number_of_samples+1\n",
        "  return encoded2    \n",
        "\n"
      ],
      "execution_count": null,
      "outputs": []
    },
    {
      "cell_type": "code",
      "metadata": {
        "id": "op3dkMoRqf3z"
      },
      "source": [
        "def Additive_noise(s=1):\n",
        "  fingerprint_rss_noise=[]\n",
        "  counter=-1\n",
        "  fingerprint_locs_noise=[]\n",
        "  for row in range(len(fingerprint_rss)):\n",
        "    counter=counter+1\n",
        "    fingerprint_rss_noise.append(fingerprint_rss[row])\n",
        "    fingerprint_locs_noise.append(fingerprint_locs[counter])\n",
        "    for column in range(3):\n",
        "      new_row =  fingerprint_rss[row].copy()\n",
        "      new_row_np= np.array(new_row)\n",
        "      noise = np.random.normal(0, s, new_row_np.shape)\n",
        "      new_signal = new_row_np + noise\n",
        "      new_signal=new_signal.tolist()\n",
        "      fingerprint_rss_noise.append(new_signal)\n",
        "      fingerprint_locs_noise.append(fingerprint_locs[counter])\n",
        "  encoded2=one_hot_encoder_func(len(fingerprint_rss_noise),len(fingerprint_locs_noise),3)\n",
        "  return fingerprint_rss_noise , fingerprint_locs_noise,encoded2"
      ],
      "execution_count": null,
      "outputs": []
    },
    {
      "cell_type": "code",
      "metadata": {
        "id": "0gXvGMZM1z2D"
      },
      "source": [
        "def Random_Dropper_AP():\n",
        "\n",
        "  fingerprint_rss_random_dropper=[]\n",
        "  counter=-1\n",
        "  fingerprint_locs_random_dropper=[]\n",
        "  for row in range(len(fingerprint_rss)):\n",
        "    counter=counter+1\n",
        "    fingerprint_rss_random_dropper.append(fingerprint_rss[row])\n",
        "    fingerprint_locs_random_dropper.append(fingerprint_locs[counter])\n",
        "    for column in range(3):\n",
        "      new_row =  fingerprint_rss[row].copy()\n",
        "      random_drop=random.randint(0,3)\n",
        "      if (new_row[random_drop]!=-100):\n",
        "        new_row[column]=-100\n",
        "      fingerprint_rss_random_dropper.append(new_row)\n",
        "      fingerprint_locs_random_dropper.append(fingerprint_locs[counter])\n",
        "  encoded2=one_hot_encoder_func(len(fingerprint_rss_random_dropper),len(fingerprint_locs_random_dropper),3)\n",
        "  return fingerprint_rss_random_dropper , fingerprint_locs_random_dropper , encoded2"
      ],
      "execution_count": null,
      "outputs": []
    },
    {
      "cell_type": "code",
      "metadata": {
        "id": "yj5Aojwa54xm"
      },
      "source": [
        "def Threshold_dropper(threshold=-85):\n",
        "\n",
        "  fingerprint_rss_Threshold_dropper=[]\n",
        "  counter=-1\n",
        "  fingerprint_locs_Threshold_dropper=[]\n",
        "  for row in range(len(fingerprint_rss)):\n",
        "    fingerprint_rss_Threshold_dropper.append(fingerprint_rss[row])\n",
        "    fingerprint_locs_Threshold_dropper.append(fingerprint_locs[counter])\n",
        "    for column in range(len(fingerprint_rss[row])):\n",
        "      new_row =  fingerprint_rss[row].copy()\n",
        "      if (new_row[column]<=threshold):\n",
        "        new_row[column]=-100\n",
        "    fingerprint_rss_Threshold_dropper.append(new_row)\n",
        "    fingerprint_locs_Threshold_dropper.append(fingerprint_locs[counter])\n",
        "  encoded2=one_hot_encoder_func(len(fingerprint_rss_Threshold_dropper),len(fingerprint_locs_Threshold_dropper),1)\n",
        "  return fingerprint_rss_Threshold_dropper , fingerprint_locs_Threshold_dropper , encoded2"
      ],
      "execution_count": null,
      "outputs": []
    },
    {
      "cell_type": "code",
      "metadata": {
        "id": "VGeLftMh_A5f"
      },
      "source": [
        "def euclidean_distance(p, q,p2,q2):\n",
        "    dist = 0.0\n",
        "    diff_p_q=(p2-p)+(q2-q)\n",
        "    diff_p_q=diff_p_q**2\n",
        "    dist=np.sqrt(diff_p_q)\n",
        "    return dist"
      ],
      "execution_count": null,
      "outputs": []
    },
    {
      "cell_type": "markdown",
      "metadata": {
        "id": "IY2lrDel7dpx"
      },
      "source": [
        "\n",
        ">## Online phase\n",
        "In the online tracking phase, a user stands at unknown location hears RSS vector from the different APs in the environment. It is required to apply all data augmentation technique on test data before using it in testing. Your algorithm feed the RSS vector to the network to get the probability distribution for the different locations. Then you can select the location that has the highest probability as the estimated location. "
      ]
    },
    {
      "cell_type": "markdown",
      "metadata": {
        "id": "OWZqYEMf8U6H"
      },
      "source": [
        "The test data is defined as follows,"
      ]
    },
    {
      "cell_type": "code",
      "metadata": {
        "id": "kdtIzzvJylwU",
        "scrolled": true
      },
      "source": [
        "'''\n",
        "Test data\n",
        "'''\n",
        "test_rss = [[-55., -66., -67., -85.], \\\n",
        "            [-60., -63., -81., -72.], \\\n",
        "            [-34., -100., -90., -78.], \\\n",
        "            [-45., -69., -81., -60.], \\\n",
        "            [-84., -100., -100., -84.], \\\n",
        "            [-51., -60., -69., -78.], \\\n",
        "            [-50., -74., -78., -75.], \\\n",
        "            [-39., -63., -75., -78.], \\\n",
        "            [-42., -68., -69., -72.], \\\n",
        "            [-72., -100., -100., -84.], \\\n",
        "            [-72., -78., -90., -84.], \\\n",
        "            [-66., -81., -100., -72.], \\\n",
        "            [-69., -65., -84., -87.], \\\n",
        "            [-61., -79., -90., -81.], \\\n",
        "            [-60., -63., -81., -84.], \\\n",
        "            [-75., -84., -81., -100.], \\\n",
        "            [-81., -100., -81., -100.], \\\n",
        "            [-78., -100., -66., -100.], \\\n",
        "            [-90., -100., -54., -100.], \\\n",
        "            [-51., -72., -100., -81.], \\\n",
        "            [-73., -100., -100., -82.], \\\n",
        "            [-78., -87., -100., -90.], \\\n",
        "            [-75., -87., -81., -100.], \\\n",
        "            [-80., -91., -62., -100.]] # dBm\n",
        "\n",
        "\n",
        "test_locs = [[1380, 677], \\\n",
        "             [1786, 666], \\\n",
        "             [2176, 675], \\\n",
        "             [2572, 666], \\\n",
        "             [2780, 1186], \\\n",
        "             [1461, 687], \\\n",
        "             [1855, 681], \\\n",
        "             [2266, 689], \\\n",
        "             [2662, 690], \\\n",
        "             [2856, 1299], \\\n",
        "             [1738, 1419], \\\n",
        "             [2351, 917], \\\n",
        "             [1366, 1003], \\\n",
        "             [1418, 346], \\\n",
        "             [1950, 348], \\\n",
        "             [807, 441], \\\n",
        "             [482, 447], \\\n",
        "             [694, 956], \\\n",
        "             [258, 831], \\\n",
        "             [2407, 260], \\\n",
        "             [2964, 362], \\\n",
        "             [3465, 301], \\\n",
        "             [822, 1471], \\\n",
        "             [611, 1268]] # location coordinates are in pixels to comvert it to meters divide by 100 \n"
      ],
      "execution_count": null,
      "outputs": []
    },
    {
      "cell_type": "markdown",
      "metadata": {
        "id": "irPwonokPnVb"
      },
      "source": [
        "The final step is to use the test data (test_rss, test_locs) to test and validate your model. "
      ]
    },
    {
      "cell_type": "code",
      "metadata": {
        "id": "4ndMBLPWhvc3",
        "colab": {
          "base_uri": "https://localhost:8080/",
          "height": 1000
        },
        "outputId": "9c933223-d24b-4cc6-9ef4-0b1b7c679acb"
      },
      "source": [
        " # get the probability distribution for each row in the test_rss.\n",
        " # get the estimated location ID as a location that has the highet probability for each row in test_rss\n",
        " # calculate the error\n",
        "\n",
        "\n",
        "\n",
        "########### WITHOUT   AUGMENTATION\n",
        "one_hot_encoder_24=one_hot_encoded_vec()\n",
        "location_model_1=train_model(fingerprint_rss,one_hot_encoder_24)\n",
        "Test_model(test_rss,one_hot_encoder_24)\n",
        "locations_classes_1=location_model_1.predict_classes(test_rss)\n",
        "model_eculidan_distance=[]\n",
        "for i in range(24):\n",
        "  model_eculidan_distance.append(euclidean_distance(test_locs[i][0],test_locs[i][1],test_locs[locations_classes_1[i]][0],test_locs[locations_classes_1[i]][1]))\n",
        "print(np.median(model_eculidan_distance))\n",
        "print(np.mean(model_eculidan_distance))\n",
        "CDF_draw(model_eculidan_distance,\"NN_model_no_aug\")\n",
        "plt.legend()\n",
        "##########\n",
        "\n",
        "\n",
        "\n",
        "\n",
        "########### WITH  ADDITIVE_NOISE AUGMENTATION\n",
        "fingerprint_rss_Additive_noise,fingerprint_locs_Additive_noise,one_hot_encoder_new_1 =Additive_noise()\n",
        "location_model_2=train_model(fingerprint_rss_Additive_noise , one_hot_encoder_new_1)\n",
        "Test_model(test_rss,one_hot_encoder_24)\n",
        "locations_classes_2=location_model_2.predict_classes(test_rss)\n",
        "model_eculidan_distance=[]\n",
        "for i in range(24):\n",
        "  model_eculidan_distance.append(euclidean_distance(test_locs[i][0],test_locs[i][1],test_locs[locations_classes_2[i]][0],test_locs[locations_classes_2[i]][1]))\n",
        "print(np.median(model_eculidan_distance))\n",
        "print(np.mean(model_eculidan_distance))\n",
        "CDF_draw(model_eculidan_distance,\"NN_model_Additive_noise_aug\")\n",
        "plt.legend()\n",
        "##########\n",
        "\n",
        "\n",
        "########### WITH  Random_Dropper_AP AUG\n",
        "fingerprint_rss_Random_Dropper_AP,fingerprint_locs_Random_Dropper_AP,one_hot_encoder_new_2 =Random_Dropper_AP()\n",
        "location_model_3=train_model(fingerprint_rss_Random_Dropper_AP , one_hot_encoder_new_2)\n",
        "Test_model(test_rss,one_hot_encoder_24)\n",
        "locations_classes_3=location_model_3.predict_classes(test_rss)\n",
        "model_eculidan_distance=[]\n",
        "for i in range(24):\n",
        "  model_eculidan_distance.append(euclidean_distance(test_locs[i][0],test_locs[i][1],test_locs[locations_classes_3[i]][0],test_locs[locations_classes_3[i]][1]))\n",
        "print(np.median(model_eculidan_distance))\n",
        "print(np.mean(model_eculidan_distance))\n",
        "CDF_draw(model_eculidan_distance,\"NN_model_RANDOM_DROPPER_aug\")\n",
        "plt.legend()\n",
        "##########\n",
        "\n",
        "\n",
        "\n",
        "\n",
        "########### WITH  Threshold_dropper AUG\n",
        "fingerprint_rss_Threshold_dropper,fingerprint_locs_threshold_dropper,one_hot_encoder_new_3 =Threshold_dropper()\n",
        "location_model_4=train_model(fingerprint_rss_Threshold_dropper , one_hot_encoder_new_3)\n",
        "Test_model(test_rss,one_hot_encoder_24)\n",
        "locations_classes_4=location_model_4.predict_classes(test_rss)\n",
        "model_eculidan_distance=[]\n",
        "for i in range(24):\n",
        "  model_eculidan_distance.append(euclidean_distance(test_locs[i][0],test_locs[i][1],test_locs[locations_classes_4[i]][0],test_locs[locations_classes_4[i]][1]))\n",
        "print(np.median(model_eculidan_distance))\n",
        "print(np.mean(model_eculidan_distance))\n",
        "CDF_draw(model_eculidan_distance,\"NN_model_THRESHOLD_DROPPER_aug\")\n",
        "plt.legend()\n",
        "##########\n",
        "\n",
        "\n",
        "\n",
        "##########  WITH ALL AUGMENTATION TECHNIQUES\n",
        "\n",
        "fingerprint_rss_all=[]\n",
        "encoded_vector_all=[]\n",
        "fingerprint_rss_all.extend(fingerprint_rss_Additive_noise)\n",
        "fingerprint_rss_all.extend(fingerprint_rss_Random_Dropper_AP)\n",
        "fingerprint_rss_all.extend(fingerprint_rss_Threshold_dropper)\n",
        "encoded_vector_all.extend(one_hot_encoder_new_1)\n",
        "encoded_vector_all.extend(one_hot_encoder_new_2)\n",
        "encoded_vector_all.extend(one_hot_encoder_new_3)\n",
        "\n",
        "location_model_5=train_model(fingerprint_rss_all , encoded_vector_all)\n",
        "Test_model(test_rss,one_hot_encoder_24)\n",
        "locations_classes_5=location_model_5.predict_classes(test_rss)\n",
        "model_eculidan_distance=[]\n",
        "for i in range(24):\n",
        "  model_eculidan_distance.append(euclidean_distance(test_locs[i][0],test_locs[i][1],test_locs[locations_classes_5[i]][0],test_locs[locations_classes_5[i]][1]))\n",
        "print(np.median(model_eculidan_distance))\n",
        "print(np.mean(model_eculidan_distance))\n",
        "CDF_draw(model_eculidan_distance,\"NN_model_ALL_aug\")\n",
        "plt.legend()\n",
        "\n",
        "#########\n",
        "\n"
      ],
      "execution_count": null,
      "outputs": [
        {
          "output_type": "stream",
          "text": [
            "Model: \"sequential_90\"\n",
            "_________________________________________________________________\n",
            "Layer (type)                 Output Shape              Param #   \n",
            "=================================================================\n",
            "dense_360 (Dense)            (None, 256)               1280      \n",
            "_________________________________________________________________\n",
            "dropout_90 (Dropout)         (None, 256)               0         \n",
            "_________________________________________________________________\n",
            "dense_361 (Dense)            (None, 128)               32896     \n",
            "_________________________________________________________________\n",
            "dense_362 (Dense)            (None, 64)                8256      \n",
            "_________________________________________________________________\n",
            "dense_363 (Dense)            (None, 24)                1560      \n",
            "=================================================================\n",
            "Total params: 43,992\n",
            "Trainable params: 43,992\n",
            "Non-trainable params: 0\n",
            "_________________________________________________________________\n",
            "Epoch 1/10\n",
            "12/12 [==============================] - 0s 2ms/step - loss: 31.6480 - accuracy: 0.0000e+00\n",
            "Epoch 2/10\n",
            "12/12 [==============================] - 0s 2ms/step - loss: 15.1771 - accuracy: 0.0099\n",
            "Epoch 3/10\n",
            "12/12 [==============================] - 0s 2ms/step - loss: 9.1999 - accuracy: 0.1124 \n",
            "Epoch 4/10\n",
            "12/12 [==============================] - 0s 2ms/step - loss: 9.7098 - accuracy: 0.0000e+00\n",
            "Epoch 5/10\n",
            "12/12 [==============================] - 0s 2ms/step - loss: 8.4777 - accuracy: 0.0000e+00\n",
            "Epoch 6/10\n",
            "12/12 [==============================] - 0s 2ms/step - loss: 5.3045 - accuracy: 0.1874\n",
            "Epoch 7/10\n",
            "12/12 [==============================] - 0s 2ms/step - loss: 6.0315 - accuracy: 0.0180 \n",
            "Epoch 8/10\n",
            "12/12 [==============================] - 0s 2ms/step - loss: 4.9245 - accuracy: 0.0967\n",
            "Epoch 9/10\n",
            "12/12 [==============================] - 0s 2ms/step - loss: 5.3916 - accuracy: 0.0000e+00\n",
            "Epoch 10/10\n",
            "12/12 [==============================] - 0s 2ms/step - loss: 4.1627 - accuracy: 0.0520\n",
            "Test X fraction correct (NN-Score) = 3.25\n",
            "Test X fraction correct (NN-Accuracy) = 0.08\n",
            "WARNING:tensorflow:11 out of the last 11 calls to <function Model.make_predict_function.<locals>.predict_function at 0x7fe0a5a6e3b0> triggered tf.function retracing. Tracing is expensive and the excessive number of tracings could be due to (1) creating @tf.function repeatedly in a loop, (2) passing tensors with different shapes, (3) passing Python objects instead of tensors. For (1), please define your @tf.function outside of the loop. For (2), @tf.function has experimental_relax_shapes=True option that relaxes argument shapes that can avoid unnecessary retracing. For (3), please refer to https://www.tensorflow.org/guide/function#controlling_retracing and https://www.tensorflow.org/api_docs/python/tf/function for  more details.\n",
            "669.0\n",
            "751.25\n",
            "Model: \"sequential_91\"\n",
            "_________________________________________________________________\n",
            "Layer (type)                 Output Shape              Param #   \n",
            "=================================================================\n",
            "dense_364 (Dense)            (None, 256)               1280      \n",
            "_________________________________________________________________\n",
            "dropout_91 (Dropout)         (None, 256)               0         \n",
            "_________________________________________________________________\n",
            "dense_365 (Dense)            (None, 128)               32896     \n",
            "_________________________________________________________________\n",
            "dense_366 (Dense)            (None, 64)                8256      \n",
            "_________________________________________________________________\n",
            "dense_367 (Dense)            (None, 24)                1560      \n",
            "=================================================================\n",
            "Total params: 43,992\n",
            "Trainable params: 43,992\n",
            "Non-trainable params: 0\n",
            "_________________________________________________________________\n"
          ],
          "name": "stdout"
        },
        {
          "output_type": "stream",
          "text": [
            "/usr/local/lib/python3.7/dist-packages/tensorflow/python/keras/engine/sequential.py:450: UserWarning: `model.predict_classes()` is deprecated and will be removed after 2021-01-01. Please use instead:* `np.argmax(model.predict(x), axis=-1)`,   if your model does multi-class classification   (e.g. if it uses a `softmax` last-layer activation).* `(model.predict(x) > 0.5).astype(\"int32\")`,   if your model does binary classification   (e.g. if it uses a `sigmoid` last-layer activation).\n",
            "  warnings.warn('`model.predict_classes()` is deprecated and '\n"
          ],
          "name": "stderr"
        },
        {
          "output_type": "stream",
          "text": [
            "Epoch 1/10\n",
            "48/48 [==============================] - 0s 2ms/step - loss: 14.0569 - accuracy: 0.0140\n",
            "Epoch 2/10\n",
            "48/48 [==============================] - 0s 1ms/step - loss: 6.7050 - accuracy: 0.0061\n",
            "Epoch 3/10\n",
            "48/48 [==============================] - 0s 2ms/step - loss: 3.7386 - accuracy: 0.0706\n",
            "Epoch 4/10\n",
            "48/48 [==============================] - 0s 2ms/step - loss: 3.3065 - accuracy: 0.0471\n",
            "Epoch 5/10\n",
            "48/48 [==============================] - 0s 2ms/step - loss: 3.2253 - accuracy: 0.0000e+00\n",
            "Epoch 6/10\n",
            "48/48 [==============================] - 0s 2ms/step - loss: 3.1271 - accuracy: 0.1330\n",
            "Epoch 7/10\n",
            "48/48 [==============================] - 0s 2ms/step - loss: 3.1113 - accuracy: 0.0859\n",
            "Epoch 8/10\n",
            "48/48 [==============================] - 0s 2ms/step - loss: 3.1551 - accuracy: 0.0619\n",
            "Epoch 9/10\n",
            "48/48 [==============================] - 0s 2ms/step - loss: 3.1743 - accuracy: 0.0274\n",
            "Epoch 10/10\n",
            "48/48 [==============================] - 0s 2ms/step - loss: 3.2540 - accuracy: 0.0679\n",
            "Test X fraction correct (NN-Score) = 3.25\n",
            "Test X fraction correct (NN-Accuracy) = 0.08\n",
            "WARNING:tensorflow:11 out of the last 11 calls to <function Model.make_predict_function.<locals>.predict_function at 0x7fe0aa0624d0> triggered tf.function retracing. Tracing is expensive and the excessive number of tracings could be due to (1) creating @tf.function repeatedly in a loop, (2) passing tensors with different shapes, (3) passing Python objects instead of tensors. For (1), please define your @tf.function outside of the loop. For (2), @tf.function has experimental_relax_shapes=True option that relaxes argument shapes that can avoid unnecessary retracing. For (3), please refer to https://www.tensorflow.org/guide/function#controlling_retracing and https://www.tensorflow.org/api_docs/python/tf/function for  more details.\n",
            "595.5\n",
            "639.25\n",
            "Model: \"sequential_92\"\n",
            "_________________________________________________________________\n",
            "Layer (type)                 Output Shape              Param #   \n",
            "=================================================================\n",
            "dense_368 (Dense)            (None, 256)               1280      \n",
            "_________________________________________________________________\n",
            "dropout_92 (Dropout)         (None, 256)               0         \n",
            "_________________________________________________________________\n",
            "dense_369 (Dense)            (None, 128)               32896     \n",
            "_________________________________________________________________\n",
            "dense_370 (Dense)            (None, 64)                8256      \n",
            "_________________________________________________________________\n",
            "dense_371 (Dense)            (None, 24)                1560      \n",
            "=================================================================\n",
            "Total params: 43,992\n",
            "Trainable params: 43,992\n",
            "Non-trainable params: 0\n",
            "_________________________________________________________________\n",
            "Epoch 1/10\n"
          ],
          "name": "stdout"
        },
        {
          "output_type": "stream",
          "text": [
            "/usr/local/lib/python3.7/dist-packages/tensorflow/python/keras/engine/sequential.py:450: UserWarning: `model.predict_classes()` is deprecated and will be removed after 2021-01-01. Please use instead:* `np.argmax(model.predict(x), axis=-1)`,   if your model does multi-class classification   (e.g. if it uses a `softmax` last-layer activation).* `(model.predict(x) > 0.5).astype(\"int32\")`,   if your model does binary classification   (e.g. if it uses a `sigmoid` last-layer activation).\n",
            "  warnings.warn('`model.predict_classes()` is deprecated and '\n"
          ],
          "name": "stderr"
        },
        {
          "output_type": "stream",
          "text": [
            "48/48 [==============================] - 0s 2ms/step - loss: 12.4413 - accuracy: 0.0550\n",
            "Epoch 2/10\n",
            "48/48 [==============================] - 0s 2ms/step - loss: 5.8478 - accuracy: 0.0193\n",
            "Epoch 3/10\n",
            "48/48 [==============================] - 0s 2ms/step - loss: 3.5430 - accuracy: 0.0608\n",
            "Epoch 4/10\n",
            "48/48 [==============================] - 0s 1ms/step - loss: 3.3218 - accuracy: 0.0138\n",
            "Epoch 5/10\n",
            "48/48 [==============================] - 0s 2ms/step - loss: 3.2066 - accuracy: 0.0236\n",
            "Epoch 6/10\n",
            "48/48 [==============================] - 0s 1ms/step - loss: 3.2140 - accuracy: 0.0312\n",
            "Epoch 7/10\n",
            "48/48 [==============================] - 0s 1ms/step - loss: 3.1680 - accuracy: 0.0510\n",
            "Epoch 8/10\n",
            "48/48 [==============================] - 0s 2ms/step - loss: 3.2066 - accuracy: 0.0345\n",
            "Epoch 9/10\n",
            "48/48 [==============================] - 0s 1ms/step - loss: 3.1878 - accuracy: 0.0092\n",
            "Epoch 10/10\n",
            "48/48 [==============================] - 0s 2ms/step - loss: 3.2099 - accuracy: 0.0141\n",
            "Test X fraction correct (NN-Score) = 3.25\n",
            "Test X fraction correct (NN-Accuracy) = 0.08\n",
            "WARNING:tensorflow:11 out of the last 11 calls to <function Model.make_predict_function.<locals>.predict_function at 0x7fe0aa056a70> triggered tf.function retracing. Tracing is expensive and the excessive number of tracings could be due to (1) creating @tf.function repeatedly in a loop, (2) passing tensors with different shapes, (3) passing Python objects instead of tensors. For (1), please define your @tf.function outside of the loop. For (2), @tf.function has experimental_relax_shapes=True option that relaxes argument shapes that can avoid unnecessary retracing. For (3), please refer to https://www.tensorflow.org/guide/function#controlling_retracing and https://www.tensorflow.org/api_docs/python/tf/function for  more details.\n",
            "555.5\n",
            "752.4583333333334\n",
            "Model: \"sequential_93\"\n",
            "_________________________________________________________________\n",
            "Layer (type)                 Output Shape              Param #   \n",
            "=================================================================\n",
            "dense_372 (Dense)            (None, 256)               1280      \n",
            "_________________________________________________________________\n",
            "dropout_93 (Dropout)         (None, 256)               0         \n",
            "_________________________________________________________________\n",
            "dense_373 (Dense)            (None, 128)               32896     \n",
            "_________________________________________________________________\n",
            "dense_374 (Dense)            (None, 64)                8256      \n",
            "_________________________________________________________________\n",
            "dense_375 (Dense)            (None, 24)                1560      \n",
            "=================================================================\n",
            "Total params: 43,992\n",
            "Trainable params: 43,992\n",
            "Non-trainable params: 0\n",
            "_________________________________________________________________\n",
            "Epoch 1/10\n"
          ],
          "name": "stdout"
        },
        {
          "output_type": "stream",
          "text": [
            "/usr/local/lib/python3.7/dist-packages/tensorflow/python/keras/engine/sequential.py:450: UserWarning: `model.predict_classes()` is deprecated and will be removed after 2021-01-01. Please use instead:* `np.argmax(model.predict(x), axis=-1)`,   if your model does multi-class classification   (e.g. if it uses a `softmax` last-layer activation).* `(model.predict(x) > 0.5).astype(\"int32\")`,   if your model does binary classification   (e.g. if it uses a `sigmoid` last-layer activation).\n",
            "  warnings.warn('`model.predict_classes()` is deprecated and '\n"
          ],
          "name": "stderr"
        },
        {
          "output_type": "stream",
          "text": [
            "24/24 [==============================] - 0s 2ms/step - loss: 16.7966 - accuracy: 0.0464\n",
            "Epoch 2/10\n",
            "24/24 [==============================] - 0s 1ms/step - loss: 8.3417 - accuracy: 0.1070\n",
            "Epoch 3/10\n",
            "24/24 [==============================] - 0s 1ms/step - loss: 6.2256 - accuracy: 0.1286\n",
            "Epoch 4/10\n",
            "24/24 [==============================] - 0s 2ms/step - loss: 5.0792 - accuracy: 0.1227\n",
            "Epoch 5/10\n",
            "24/24 [==============================] - 0s 2ms/step - loss: 4.8325 - accuracy: 0.0220\n",
            "Epoch 6/10\n",
            "24/24 [==============================] - 0s 2ms/step - loss: 4.2254 - accuracy: 0.0245\n",
            "Epoch 7/10\n",
            "24/24 [==============================] - 0s 2ms/step - loss: 4.5178 - accuracy: 0.0000e+00\n",
            "Epoch 8/10\n",
            "24/24 [==============================] - 0s 2ms/step - loss: 3.9081 - accuracy: 0.1098\n",
            "Epoch 9/10\n",
            "24/24 [==============================] - 0s 1ms/step - loss: 3.5738 - accuracy: 0.0000e+00\n",
            "Epoch 10/10\n",
            "24/24 [==============================] - 0s 2ms/step - loss: 3.7282 - accuracy: 0.0654\n",
            "Test X fraction correct (NN-Score) = 3.25\n",
            "Test X fraction correct (NN-Accuracy) = 0.08\n",
            "WARNING:tensorflow:11 out of the last 11 calls to <function Model.make_predict_function.<locals>.predict_function at 0x7fe0acd53680> triggered tf.function retracing. Tracing is expensive and the excessive number of tracings could be due to (1) creating @tf.function repeatedly in a loop, (2) passing tensors with different shapes, (3) passing Python objects instead of tensors. For (1), please define your @tf.function outside of the loop. For (2), @tf.function has experimental_relax_shapes=True option that relaxes argument shapes that can avoid unnecessary retracing. For (3), please refer to https://www.tensorflow.org/guide/function#controlling_retracing and https://www.tensorflow.org/api_docs/python/tf/function for  more details.\n",
            "666.5\n",
            "716.875\n",
            "Model: \"sequential_94\"\n",
            "_________________________________________________________________\n",
            "Layer (type)                 Output Shape              Param #   \n",
            "=================================================================\n",
            "dense_376 (Dense)            (None, 256)               1280      \n",
            "_________________________________________________________________\n",
            "dropout_94 (Dropout)         (None, 256)               0         \n",
            "_________________________________________________________________\n",
            "dense_377 (Dense)            (None, 128)               32896     \n",
            "_________________________________________________________________\n",
            "dense_378 (Dense)            (None, 64)                8256      \n",
            "_________________________________________________________________\n",
            "dense_379 (Dense)            (None, 24)                1560      \n",
            "=================================================================\n",
            "Total params: 43,992\n",
            "Trainable params: 43,992\n",
            "Non-trainable params: 0\n",
            "_________________________________________________________________\n",
            "Epoch 1/10\n"
          ],
          "name": "stdout"
        },
        {
          "output_type": "stream",
          "text": [
            "/usr/local/lib/python3.7/dist-packages/tensorflow/python/keras/engine/sequential.py:450: UserWarning: `model.predict_classes()` is deprecated and will be removed after 2021-01-01. Please use instead:* `np.argmax(model.predict(x), axis=-1)`,   if your model does multi-class classification   (e.g. if it uses a `softmax` last-layer activation).* `(model.predict(x) > 0.5).astype(\"int32\")`,   if your model does binary classification   (e.g. if it uses a `sigmoid` last-layer activation).\n",
            "  warnings.warn('`model.predict_classes()` is deprecated and '\n"
          ],
          "name": "stderr"
        },
        {
          "output_type": "stream",
          "text": [
            "120/120 [==============================] - 1s 2ms/step - loss: 9.8620 - accuracy: 0.0412\n",
            "Epoch 2/10\n",
            "120/120 [==============================] - 0s 2ms/step - loss: 4.0595 - accuracy: 0.0200\n",
            "Epoch 3/10\n",
            "120/120 [==============================] - 0s 2ms/step - loss: 3.6111 - accuracy: 0.0453\n",
            "Epoch 4/10\n",
            "120/120 [==============================] - 0s 2ms/step - loss: 3.0098 - accuracy: 0.0959\n",
            "Epoch 5/10\n",
            "120/120 [==============================] - 0s 2ms/step - loss: 2.9975 - accuracy: 0.0730\n",
            "Epoch 6/10\n",
            "120/120 [==============================] - 0s 2ms/step - loss: 2.9774 - accuracy: 0.1514\n",
            "Epoch 7/10\n",
            "120/120 [==============================] - 0s 2ms/step - loss: 2.7134 - accuracy: 0.1606\n",
            "Epoch 8/10\n",
            "120/120 [==============================] - 0s 1ms/step - loss: 2.5441 - accuracy: 0.1839\n",
            "Epoch 9/10\n",
            "120/120 [==============================] - 0s 2ms/step - loss: 2.3156 - accuracy: 0.2825\n",
            "Epoch 10/10\n",
            "120/120 [==============================] - 0s 2ms/step - loss: 2.1764 - accuracy: 0.2765\n",
            "Test X fraction correct (NN-Score) = 3.25\n",
            "Test X fraction correct (NN-Accuracy) = 0.08\n",
            "WARNING:tensorflow:11 out of the last 11 calls to <function Model.make_predict_function.<locals>.predict_function at 0x7fe0acd58f80> triggered tf.function retracing. Tracing is expensive and the excessive number of tracings could be due to (1) creating @tf.function repeatedly in a loop, (2) passing tensors with different shapes, (3) passing Python objects instead of tensors. For (1), please define your @tf.function outside of the loop. For (2), @tf.function has experimental_relax_shapes=True option that relaxes argument shapes that can avoid unnecessary retracing. For (3), please refer to https://www.tensorflow.org/guide/function#controlling_retracing and https://www.tensorflow.org/api_docs/python/tf/function for  more details.\n",
            "548.0\n",
            "519.75\n"
          ],
          "name": "stdout"
        },
        {
          "output_type": "stream",
          "text": [
            "/usr/local/lib/python3.7/dist-packages/tensorflow/python/keras/engine/sequential.py:450: UserWarning: `model.predict_classes()` is deprecated and will be removed after 2021-01-01. Please use instead:* `np.argmax(model.predict(x), axis=-1)`,   if your model does multi-class classification   (e.g. if it uses a `softmax` last-layer activation).* `(model.predict(x) > 0.5).astype(\"int32\")`,   if your model does binary classification   (e.g. if it uses a `sigmoid` last-layer activation).\n",
            "  warnings.warn('`model.predict_classes()` is deprecated and '\n"
          ],
          "name": "stderr"
        },
        {
          "output_type": "execute_result",
          "data": {
            "text/plain": [
              "<matplotlib.legend.Legend at 0x7fe0ac4e5510>"
            ]
          },
          "metadata": {
            "tags": []
          },
          "execution_count": 238
        },
        {
          "output_type": "display_data",
          "data": {
            "image/png": "[encoded data removed]",
            "text/plain": [
              "<Figure size 432x288 with 1 Axes>"
            ]
          },
          "metadata": {
            "tags": [],
            "needs_background": "light"
          }
        }
      ]
    },
    {
      "cell_type": "code",
      "metadata": {
        "colab": {
          "base_uri": "https://localhost:8080/",
          "height": 283
        },
        "id": "sGp1Ek5bvsKG",
        "outputId": "d6378ad7-5dfb-489b-cf1f-a620ac37599f"
      },
      "source": [
        "import matplotlib.pyplot as plt\n",
        "technique = ['no aug', 'additive', 'random', 'threshold' , 'all techniques']\n",
        "median_error_technique= [6.69, 5.95,5.55,6.66,5.48]\n",
        "plt.bar(technique,median_error_technique)\n",
        "plt.xlabel('technique name')\n",
        "plt.ylabel('median error in (m)')\n",
        "plt.show()"
      ],
      "execution_count": null,
      "outputs": [
        {
          "output_type": "display_data",
          "data": {
            "image/png": "[encoded data removed]",
            "text/plain": [
              "<Figure size 432x288 with 1 Axes>"
            ]
          },
          "metadata": {
            "tags": [],
            "needs_background": "light"
          }
        }
      ]
    },
    {
      "cell_type": "code",
      "metadata": {
        "colab": {
          "base_uri": "https://localhost:8080/",
          "height": 1000
        },
        "id": "qNk1pgitAjHB",
        "outputId": "5bb22b72-0755-4cc9-fbb0-5db80fc0ede1"
      },
      "source": [
        "fingerprint_rss_Threshold_dropper,fingerprint_locs_threshold_dropper,one_hot_encoder_new_3 =Threshold_dropper(-95)\n",
        "location_model_4=train_model(fingerprint_rss_Threshold_dropper , one_hot_encoder_new_3)\n",
        "Test_model(test_rss,one_hot_encoder_24)\n",
        "locations_classes_4=location_model_4.predict_classes(test_rss)\n",
        "model_eculidan_distance=[]\n",
        "for i in range(24):\n",
        "  model_eculidan_distance.append(euclidean_distance(test_locs[i][0],test_locs[i][1],test_locs[locations_classes_4[i]][0],test_locs[locations_classes_4[i]][1]))\n",
        "print(np.median(model_eculidan_distance))\n",
        "print(np.mean(model_eculidan_distance))\n",
        "CDF_draw(model_eculidan_distance,\"NN_model_THRESHOLD_DROPPER_aug\")\n",
        "plt.legend()"
      ],
      "execution_count": null,
      "outputs": [
        {
          "output_type": "stream",
          "text": [
            "Model: \"sequential_99\"\n",
            "_________________________________________________________________\n",
            "Layer (type)                 Output Shape              Param #   \n",
            "=================================================================\n",
            "dense_396 (Dense)            (None, 256)               1280      \n",
            "_________________________________________________________________\n",
            "dropout_99 (Dropout)         (None, 256)               0         \n",
            "_________________________________________________________________\n",
            "dense_397 (Dense)            (None, 128)               32896     \n",
            "_________________________________________________________________\n",
            "dense_398 (Dense)            (None, 64)                8256      \n",
            "_________________________________________________________________\n",
            "dense_399 (Dense)            (None, 24)                1560      \n",
            "=================================================================\n",
            "Total params: 43,992\n",
            "Trainable params: 43,992\n",
            "Non-trainable params: 0\n",
            "_________________________________________________________________\n",
            "Epoch 1/10\n",
            "24/24 [==============================] - 0s 2ms/step - loss: 18.5717 - accuracy: 0.0265\n",
            "Epoch 2/10\n",
            "24/24 [==============================] - 0s 1ms/step - loss: 8.8694 - accuracy: 0.0198 \n",
            "Epoch 3/10\n",
            "24/24 [==============================] - 0s 1ms/step - loss: 7.7325 - accuracy: 0.0017\n",
            "Epoch 4/10\n",
            "24/24 [==============================] - 0s 2ms/step - loss: 4.2600 - accuracy: 0.0637\n",
            "Epoch 5/10\n",
            "24/24 [==============================] - 0s 2ms/step - loss: 3.7196 - accuracy: 0.0614\n",
            "Epoch 6/10\n",
            "24/24 [==============================] - 0s 1ms/step - loss: 3.4828 - accuracy: 0.0127\n",
            "Epoch 7/10\n",
            "24/24 [==============================] - 0s 2ms/step - loss: 3.3278 - accuracy: 0.0382\n",
            "Epoch 8/10\n",
            "24/24 [==============================] - 0s 2ms/step - loss: 3.2592 - accuracy: 0.0307\n",
            "Epoch 9/10\n",
            "24/24 [==============================] - 0s 2ms/step - loss: 3.1123 - accuracy: 0.0618\n",
            "Epoch 10/10\n",
            "24/24 [==============================] - 0s 2ms/step - loss: 3.4333 - accuracy: 0.0189\n",
            "Test X fraction correct (NN-Score) = 3.25\n",
            "Test X fraction correct (NN-Accuracy) = 0.08\n",
            "WARNING:tensorflow:11 out of the last 11 calls to <function Model.make_predict_function.<locals>.predict_function at 0x7fe0acbcae60> triggered tf.function retracing. Tracing is expensive and the excessive number of tracings could be due to (1) creating @tf.function repeatedly in a loop, (2) passing tensors with different shapes, (3) passing Python objects instead of tensors. For (1), please define your @tf.function outside of the loop. For (2), @tf.function has experimental_relax_shapes=True option that relaxes argument shapes that can avoid unnecessary retracing. For (3), please refer to https://www.tensorflow.org/guide/function#controlling_retracing and https://www.tensorflow.org/api_docs/python/tf/function for  more details.\n",
            "652.5\n",
            "729.625\n"
          ],
          "name": "stdout"
        },
        {
          "output_type": "stream",
          "text": [
            "/usr/local/lib/python3.7/dist-packages/tensorflow/python/keras/engine/sequential.py:450: UserWarning: `model.predict_classes()` is deprecated and will be removed after 2021-01-01. Please use instead:* `np.argmax(model.predict(x), axis=-1)`,   if your model does multi-class classification   (e.g. if it uses a `softmax` last-layer activation).* `(model.predict(x) > 0.5).astype(\"int32\")`,   if your model does binary classification   (e.g. if it uses a `sigmoid` last-layer activation).\n",
            "  warnings.warn('`model.predict_classes()` is deprecated and '\n"
          ],
          "name": "stderr"
        },
        {
          "output_type": "execute_result",
          "data": {
            "text/plain": [
              "<matplotlib.legend.Legend at 0x7fe0aa9a7ed0>"
            ]
          },
          "metadata": {
            "tags": []
          },
          "execution_count": 246
        },
        {
          "output_type": "display_data",
          "data": {
            "image/png": "[encoded data removed]",
            "text/plain": [
              "<Figure size 432x288 with 1 Axes>"
            ]
          },
          "metadata": {
            "tags": [],
            "needs_background": "light"
          }
        }
      ]
    },
    {
      "cell_type": "code",
      "metadata": {
        "colab": {
          "base_uri": "https://localhost:8080/",
          "height": 279
        },
        "id": "nLkkEbDsAlIO",
        "outputId": "e02c59a4-3c5c-46c1-d580-27040884beae"
      },
      "source": [
        "differen_threshold = ['-95','-85', '-70', '-60', '-50' , '-40']\n",
        "median_error_technique= [6.52,6.66, 7.89,5.55,6.05,6.52]\n",
        "plt.bar(differen_threshold,median_error_technique)\n",
        "plt.xlabel('threshold value')\n",
        "plt.ylabel('median error in (m)')\n",
        "plt.show()"
      ],
      "execution_count": null,
      "outputs": [
        {
          "output_type": "display_data",
          "data": {
            "image/png": "[encoded data removed]",
            "text/plain": [
              "<Figure size 432x288 with 1 Axes>"
            ]
          },
          "metadata": {
            "tags": [],
            "needs_background": "light"
          }
        }
      ]
    },
    {
      "cell_type": "markdown",
      "metadata": {
        "id": "yPQ7c1UOPKDW"
      },
      "source": [
        "# 3. Requirements\n",
        "It is required to implement the following,\n",
        "*   The different data augmentation techniques.\n",
        "*   The Deep learning-based localization system using a classifier with the described parameters.\n",
        "*   Draw the Cumulative distribution function (CDF) for the distance error using the proposed test data .\n",
        "*   Compare the CDF for the deep learning-based system with all augmentation techniques and without augmentation.\n",
        "*   Draw a figure that shows the effect of no augmentation, each data augmentation technique, and all data augmentation techniques on the median localization error.\n",
        "*   Draw a figure that shows the effect of changing the threshold parameter on the median localization error using theshold-based dropping.\n",
        "\n",
        "\n",
        "# 5. Possible resources\n",
        "*   [Data Augmentation Paper](https://arxiv.org/pdf/1906.08171)\n",
        "\n",
        "# 6. Final notes\n",
        "\n",
        "*   It is reuired to deliver the notebook with the Deep learning & Data Augmentation implementation, the CDFs and the error statistics (mean and median.\n",
        "*   Assignment delivery date is on Tuesday **May 11**.\n",
        "\n",
        "\n",
        "\n",
        "\n",
        "\n",
        "\n",
        "\n"
      ]
    }
  ]
}